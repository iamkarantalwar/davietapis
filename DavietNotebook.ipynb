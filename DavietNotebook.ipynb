{
 "cells": [
  {
   "cell_type": "code",
   "execution_count": 1,
   "metadata": {},
   "outputs": [
    {
     "name": "stdout",
     "output_type": "stream",
     "text": [
      "Hello\n"
     ]
    }
   ],
   "source": [
    "print(\"Hello\")"
   ]
  },
  {
   "cell_type": "code",
   "execution_count": 2,
   "metadata": {},
   "outputs": [],
   "source": [
    "import pandas as pd"
   ]
  },
  {
   "cell_type": "code",
   "execution_count": 3,
   "metadata": {},
   "outputs": [],
   "source": [
    "import numpy as np"
   ]
  },
  {
   "cell_type": "code",
   "execution_count": 4,
   "metadata": {},
   "outputs": [],
   "source": [
    "import matplotlib.pyplot as plt"
   ]
  },
  {
   "cell_type": "code",
   "execution_count": 5,
   "metadata": {},
   "outputs": [],
   "source": [
    "data = pd.read_csv(\"Book1.csv\")"
   ]
  },
  {
   "cell_type": "code",
   "execution_count": 6,
   "metadata": {},
   "outputs": [
    {
     "data": {
      "text/html": [
       "<div>\n",
       "<style scoped>\n",
       "    .dataframe tbody tr th:only-of-type {\n",
       "        vertical-align: middle;\n",
       "    }\n",
       "\n",
       "    .dataframe tbody tr th {\n",
       "        vertical-align: top;\n",
       "    }\n",
       "\n",
       "    .dataframe thead th {\n",
       "        text-align: right;\n",
       "    }\n",
       "</style>\n",
       "<table border=\"1\" class=\"dataframe\">\n",
       "  <thead>\n",
       "    <tr style=\"text-align: right;\">\n",
       "      <th></th>\n",
       "      <th>Sr No</th>\n",
       "      <th>Date</th>\n",
       "      <th>EpochDate</th>\n",
       "      <th>Day</th>\n",
       "      <th>Night</th>\n",
       "      <th>Minimum</th>\n",
       "      <th>MobileLink</th>\n",
       "      <th>Maximum</th>\n",
       "    </tr>\n",
       "  </thead>\n",
       "  <tbody>\n",
       "    <tr>\n",
       "      <td>0</td>\n",
       "      <td>1</td>\n",
       "      <td>11/6/2019</td>\n",
       "      <td>1573003800</td>\n",
       "      <td>Partly sunny</td>\n",
       "      <td>Partly cloudy w/ t-storms</td>\n",
       "      <td>61</td>\n",
       "      <td>http://m.accuweather.com/en/in/jalandhar/19513...</td>\n",
       "      <td>88</td>\n",
       "    </tr>\n",
       "    <tr>\n",
       "      <td>1</td>\n",
       "      <td>2</td>\n",
       "      <td>11/7/2019</td>\n",
       "      <td>1573090200</td>\n",
       "      <td>Partly sunny w/ t-storms</td>\n",
       "      <td>Partly cloudy w/ t-storms</td>\n",
       "      <td>58</td>\n",
       "      <td>http://m.accuweather.com/en/in/jalandhar/19513...</td>\n",
       "      <td>73</td>\n",
       "    </tr>\n",
       "    <tr>\n",
       "      <td>2</td>\n",
       "      <td>3</td>\n",
       "      <td>11/8/2019</td>\n",
       "      <td>1573176600</td>\n",
       "      <td>Hazy sunshine</td>\n",
       "      <td>Hazy moonlight</td>\n",
       "      <td>56</td>\n",
       "      <td>http://m.accuweather.com/en/in/jalandhar/19513...</td>\n",
       "      <td>77</td>\n",
       "    </tr>\n",
       "    <tr>\n",
       "      <td>3</td>\n",
       "      <td>4</td>\n",
       "      <td>11/9/2019</td>\n",
       "      <td>1573263000</td>\n",
       "      <td>Hazy sunshine</td>\n",
       "      <td>Hazy sunshine</td>\n",
       "      <td>53</td>\n",
       "      <td>http://m.accuweather.com/en/in/jalandhar/19513...</td>\n",
       "      <td>79</td>\n",
       "    </tr>\n",
       "    <tr>\n",
       "      <td>4</td>\n",
       "      <td>5</td>\n",
       "      <td>11/10/2019</td>\n",
       "      <td>1573349400</td>\n",
       "      <td>Sunny</td>\n",
       "      <td>Mostly clear</td>\n",
       "      <td>54</td>\n",
       "      <td>http://m.accuweather.com/en/in/jalandhar/19513...</td>\n",
       "      <td>78</td>\n",
       "    </tr>\n",
       "  </tbody>\n",
       "</table>\n",
       "</div>"
      ],
      "text/plain": [
       "   Sr No        Date   EpochDate                       Day  \\\n",
       "0      1   11/6/2019  1573003800              Partly sunny   \n",
       "1      2   11/7/2019  1573090200  Partly sunny w/ t-storms   \n",
       "2      3   11/8/2019  1573176600             Hazy sunshine   \n",
       "3      4   11/9/2019  1573263000             Hazy sunshine   \n",
       "4      5  11/10/2019  1573349400                     Sunny   \n",
       "\n",
       "                       Night  Minimum  \\\n",
       "0  Partly cloudy w/ t-storms       61   \n",
       "1  Partly cloudy w/ t-storms       58   \n",
       "2             Hazy moonlight       56   \n",
       "3              Hazy sunshine       53   \n",
       "4               Mostly clear       54   \n",
       "\n",
       "                                          MobileLink  Maximum  \n",
       "0  http://m.accuweather.com/en/in/jalandhar/19513...       88  \n",
       "1  http://m.accuweather.com/en/in/jalandhar/19513...       73  \n",
       "2  http://m.accuweather.com/en/in/jalandhar/19513...       77  \n",
       "3  http://m.accuweather.com/en/in/jalandhar/19513...       79  \n",
       "4  http://m.accuweather.com/en/in/jalandhar/19513...       78  "
      ]
     },
     "execution_count": 6,
     "metadata": {},
     "output_type": "execute_result"
    }
   ],
   "source": [
    "data"
   ]
  },
  {
   "cell_type": "code",
   "execution_count": 8,
   "metadata": {},
   "outputs": [
    {
     "data": {
      "text/plain": [
       "0    61\n",
       "1    58\n",
       "2    56\n",
       "3    53\n",
       "4    54\n",
       "Name: Minimum, dtype: int64"
      ]
     },
     "execution_count": 8,
     "metadata": {},
     "output_type": "execute_result"
    }
   ],
   "source": [
    "minimum_temp = data[\"Minimum\"]\n",
    "minimum_temp"
   ]
  },
  {
   "cell_type": "code",
   "execution_count": 12,
   "metadata": {},
   "outputs": [],
   "source": [
    "min_temp = minimum_temp.to_numpy()\n",
    "date = data[\"Date\"].to_numpy()\n",
    "maximum_temp = data[\"Maximum\"].to_numpy()\n"
   ]
  },
  {
   "cell_type": "code",
   "execution_count": 15,
   "metadata": {},
   "outputs": [
    {
     "data": {
      "image/png": "[encoded data removed]",
      "text/plain": [
       "<Figure size 432x288 with 1 Axes>"
      ]
     },
     "metadata": {
      "needs_background": "light"
     },
     "output_type": "display_data"
    }
   ],
   "source": [
    "plt.scatter(date,min_temp,label=\"Minimum\")\n",
    "plt.scatter(date,maximum_temp,label=\"Maximum\")\n",
    "plt.legend()\n",
    "plt.show()"
   ]
  },
  {
   "cell_type": "code",
   "execution_count": null,
   "metadata": {},
   "outputs": [],
   "source": []
  }
 ],
 "metadata": {
  "kernelspec": {
   "display_name": "Python 3",
   "language": "python",
   "name": "python3"
  },
  "language_info": {
   "codemirror_mode": {
    "name": "ipython",
    "version": 3
   },
   "file_extension": ".py",
   "mimetype": "text/x-python",
   "name": "python",
   "nbconvert_exporter": "python",
   "pygments_lexer": "ipython3",
   "version": "3.7.4"
  }
 },
 "nbformat": 4,
 "nbformat_minor": 2
}
